{
 "cells": [
  {
   "cell_type": "markdown",
   "metadata": {},
   "source": [
    "Clustering\n",
    "\n",
    "Cho tập dữ liệu card_data.csv gồm các cột sau : \n",
    "country Name of the country \n",
    "child_mort Death of children under 5 years of age per 1000 live births \n",
    "exports Exports of goods and services per capita. Given as %age of the GDP per capita \n",
    "health Total health spending per capita. Given as %age of GDP per capita \n",
    "imports Imports of goods and services per capita. Given as %age of the GDP per capita \n",
    "Income Net income per person \n",
    "Inflation The measurement of the annual growth rate of the Total GDP \n",
    "life_expec The average number of years a new born child would live if the current mortality patterns \n",
    "are to remain the same\n",
    "total_fer The number of children that would be born to each woman if the current age-fertility rates \n",
    "remain the same.\n",
    "gdpp The GDP per capita. Calculated as the Total GDP divided by the total population.\n",
    "\n",
    "Yêu cầu : \n",
    "1. Scale data với phương pháp thích hợp. \n",
    "2. Xây dựng 3 mô hình clustering : KMeans, Agglomerative Clustering, GMM trên tập data \n",
    "trên. Lựa chọn số cluster phù hợp cho mỗi mô hình, kèm theo giải thích. Vẽ biểu đồ minh \n",
    "họa. \n",
    "3. PCA với n_components = 2 trên tập data đã qua xử lý. Tiến hành chọn 1 trong 3 thuật toán ở \n",
    "câu 2, kèm số lượng cluster đã chọn ở câu 2 để fit trên tập data vừa được giảm chiều bởi \n",
    "PCA. \n",
    "4. Visualize tập data đã qua xử lý PCA, vẽ 1 đồ thị 2D, trong đó các điểm cùng thuộc 1 cluster \n",
    "sẽ có cùng 1 màu (ví dụ như hình bên dưới). Giải thích ý nghĩa của từng cluster dựa trên \n",
    "các thông tin thu được. "
   ]
  },
  {
   "cell_type": "code",
   "execution_count": 2,
   "metadata": {},
   "outputs": [],
   "source": [
    "import pandas as pd\n",
    "import numpy as np"
   ]
  },
  {
   "cell_type": "code",
   "execution_count": 3,
   "metadata": {},
   "outputs": [],
   "source": [
    "data = pd.read_csv(\"clustering/Country-data.csv\",index_col=0)"
   ]
  },
  {
   "cell_type": "code",
   "execution_count": 4,
   "metadata": {},
   "outputs": [
    {
     "data": {
      "text/html": [
       "<div>\n",
       "<style scoped>\n",
       "    .dataframe tbody tr th:only-of-type {\n",
       "        vertical-align: middle;\n",
       "    }\n",
       "\n",
       "    .dataframe tbody tr th {\n",
       "        vertical-align: top;\n",
       "    }\n",
       "\n",
       "    .dataframe thead th {\n",
       "        text-align: right;\n",
       "    }\n",
       "</style>\n",
       "<table border=\"1\" class=\"dataframe\">\n",
       "  <thead>\n",
       "    <tr style=\"text-align: right;\">\n",
       "      <th></th>\n",
       "      <th>child_mort</th>\n",
       "      <th>health</th>\n",
       "      <th>income</th>\n",
       "      <th>inflation</th>\n",
       "      <th>life_expec</th>\n",
       "      <th>total_fer</th>\n",
       "      <th>gdpp</th>\n",
       "    </tr>\n",
       "    <tr>\n",
       "      <th>country</th>\n",
       "      <th></th>\n",
       "      <th></th>\n",
       "      <th></th>\n",
       "      <th></th>\n",
       "      <th></th>\n",
       "      <th></th>\n",
       "      <th></th>\n",
       "    </tr>\n",
       "  </thead>\n",
       "  <tbody>\n",
       "    <tr>\n",
       "      <th>Afghanistan</th>\n",
       "      <td>90.2</td>\n",
       "      <td>7.58</td>\n",
       "      <td>1610</td>\n",
       "      <td>9.44</td>\n",
       "      <td>56.2</td>\n",
       "      <td>5.82</td>\n",
       "      <td>553</td>\n",
       "    </tr>\n",
       "    <tr>\n",
       "      <th>Albania</th>\n",
       "      <td>16.6</td>\n",
       "      <td>6.55</td>\n",
       "      <td>9930</td>\n",
       "      <td>4.49</td>\n",
       "      <td>76.3</td>\n",
       "      <td>1.65</td>\n",
       "      <td>4090</td>\n",
       "    </tr>\n",
       "    <tr>\n",
       "      <th>Algeria</th>\n",
       "      <td>27.3</td>\n",
       "      <td>4.17</td>\n",
       "      <td>12900</td>\n",
       "      <td>16.10</td>\n",
       "      <td>76.5</td>\n",
       "      <td>2.89</td>\n",
       "      <td>4460</td>\n",
       "    </tr>\n",
       "    <tr>\n",
       "      <th>Angola</th>\n",
       "      <td>119.0</td>\n",
       "      <td>2.85</td>\n",
       "      <td>5900</td>\n",
       "      <td>22.40</td>\n",
       "      <td>60.1</td>\n",
       "      <td>6.16</td>\n",
       "      <td>3530</td>\n",
       "    </tr>\n",
       "    <tr>\n",
       "      <th>Antigua and Barbuda</th>\n",
       "      <td>10.3</td>\n",
       "      <td>6.03</td>\n",
       "      <td>19100</td>\n",
       "      <td>1.44</td>\n",
       "      <td>76.8</td>\n",
       "      <td>2.13</td>\n",
       "      <td>12200</td>\n",
       "    </tr>\n",
       "  </tbody>\n",
       "</table>\n",
       "</div>"
      ],
      "text/plain": [
       "                     child_mort  health  income  inflation  life_expec  \\\n",
       "country                                                                  \n",
       "Afghanistan                90.2    7.58    1610       9.44        56.2   \n",
       "Albania                    16.6    6.55    9930       4.49        76.3   \n",
       "Algeria                    27.3    4.17   12900      16.10        76.5   \n",
       "Angola                    119.0    2.85    5900      22.40        60.1   \n",
       "Antigua and Barbuda        10.3    6.03   19100       1.44        76.8   \n",
       "\n",
       "                     total_fer   gdpp  \n",
       "country                                \n",
       "Afghanistan               5.82    553  \n",
       "Albania                   1.65   4090  \n",
       "Algeria                   2.89   4460  \n",
       "Angola                    6.16   3530  \n",
       "Antigua and Barbuda       2.13  12200  "
      ]
     },
     "execution_count": 4,
     "metadata": {},
     "output_type": "execute_result"
    }
   ],
   "source": [
    "data.head()"
   ]
  },
  {
   "cell_type": "code",
   "execution_count": 5,
   "metadata": {},
   "outputs": [
    {
     "name": "stdout",
     "output_type": "stream",
     "text": [
      "<class 'pandas.core.frame.DataFrame'>\n",
      "Index: 167 entries, Afghanistan to Zambia\n",
      "Data columns (total 7 columns):\n",
      " #   Column      Non-Null Count  Dtype  \n",
      "---  ------      --------------  -----  \n",
      " 0   child_mort  167 non-null    float64\n",
      " 1   health      167 non-null    float64\n",
      " 2   income      167 non-null    int64  \n",
      " 3   inflation   167 non-null    float64\n",
      " 4   life_expec  167 non-null    float64\n",
      " 5   total_fer   167 non-null    float64\n",
      " 6   gdpp        167 non-null    int64  \n",
      "dtypes: float64(5), int64(2)\n",
      "memory usage: 10.4+ KB\n"
     ]
    }
   ],
   "source": [
    "data.info()"
   ]
  },
  {
   "cell_type": "code",
   "execution_count": 6,
   "metadata": {},
   "outputs": [
    {
     "data": {
      "image/png": "[encoded data removed]",
      "text/plain": [
       "<Figure size 1500x600 with 7 Axes>"
      ]
     },
     "metadata": {},
     "output_type": "display_data"
    }
   ],
   "source": [
    "from matplotlib import pyplot as plt\n",
    "import warnings\n",
    "warnings.filterwarnings('ignore')\n",
    "import seaborn as sns\n",
    "plt.figure(1 , figsize = (15 , 6))\n",
    "n = 1 \n",
    "for x in data.columns.to_list():\n",
    "    \n",
    "    plt.subplot(6 , 3 , n)\n",
    "    plt.subplots_adjust(hspace = 0.5 , wspace = 0.5)\n",
    "    sns.distplot(data[x] , bins = 15)\n",
    "    plt.title('Distplot of {}'.format(x))\n",
    "    n = n+1\n",
    "plt.subplots_adjust(left=0.1,\n",
    "                    bottom=0.05,\n",
    "                    right=0.9,\n",
    "                    top=0.9,\n",
    "                    wspace=0.4,\n",
    "                    hspace=2.5)\n",
    "plt.show()"
   ]
  },
  {
   "cell_type": "code",
   "execution_count": 7,
   "metadata": {},
   "outputs": [],
   "source": [
    "import pandas as pd\n",
    "from sklearn.preprocessing import MinMaxScaler\n",
    "\n",
    "features = ['child_mort', 'health', 'income', 'inflation', 'life_expec', 'total_fer', 'gdpp']\n",
    "X = data[features]\n",
    "\n",
    "scaler = MinMaxScaler()\n",
    "\n",
    "X_scaled = scaler.fit_transform(X)\n",
    "\n",
    "data = pd.DataFrame(X_scaled, columns=features)"
   ]
  },
  {
   "cell_type": "code",
   "execution_count": 8,
   "metadata": {},
   "outputs": [
    {
     "data": {
      "text/html": [
       "<div>\n",
       "<style scoped>\n",
       "    .dataframe tbody tr th:only-of-type {\n",
       "        vertical-align: middle;\n",
       "    }\n",
       "\n",
       "    .dataframe tbody tr th {\n",
       "        vertical-align: top;\n",
       "    }\n",
       "\n",
       "    .dataframe thead th {\n",
       "        text-align: right;\n",
       "    }\n",
       "</style>\n",
       "<table border=\"1\" class=\"dataframe\">\n",
       "  <thead>\n",
       "    <tr style=\"text-align: right;\">\n",
       "      <th></th>\n",
       "      <th>child_mort</th>\n",
       "      <th>health</th>\n",
       "      <th>income</th>\n",
       "      <th>inflation</th>\n",
       "      <th>life_expec</th>\n",
       "      <th>total_fer</th>\n",
       "      <th>gdpp</th>\n",
       "    </tr>\n",
       "  </thead>\n",
       "  <tbody>\n",
       "    <tr>\n",
       "      <th>0</th>\n",
       "      <td>0.426485</td>\n",
       "      <td>0.358608</td>\n",
       "      <td>0.008047</td>\n",
       "      <td>0.126144</td>\n",
       "      <td>0.475345</td>\n",
       "      <td>0.736593</td>\n",
       "      <td>0.003073</td>\n",
       "    </tr>\n",
       "    <tr>\n",
       "      <th>1</th>\n",
       "      <td>0.068160</td>\n",
       "      <td>0.294593</td>\n",
       "      <td>0.074933</td>\n",
       "      <td>0.080399</td>\n",
       "      <td>0.871795</td>\n",
       "      <td>0.078864</td>\n",
       "      <td>0.036833</td>\n",
       "    </tr>\n",
       "    <tr>\n",
       "      <th>2</th>\n",
       "      <td>0.120253</td>\n",
       "      <td>0.146675</td>\n",
       "      <td>0.098809</td>\n",
       "      <td>0.187691</td>\n",
       "      <td>0.875740</td>\n",
       "      <td>0.274448</td>\n",
       "      <td>0.040365</td>\n",
       "    </tr>\n",
       "    <tr>\n",
       "      <th>3</th>\n",
       "      <td>0.566699</td>\n",
       "      <td>0.064636</td>\n",
       "      <td>0.042535</td>\n",
       "      <td>0.245911</td>\n",
       "      <td>0.552268</td>\n",
       "      <td>0.790221</td>\n",
       "      <td>0.031488</td>\n",
       "    </tr>\n",
       "    <tr>\n",
       "      <th>4</th>\n",
       "      <td>0.037488</td>\n",
       "      <td>0.262275</td>\n",
       "      <td>0.148652</td>\n",
       "      <td>0.052213</td>\n",
       "      <td>0.881657</td>\n",
       "      <td>0.154574</td>\n",
       "      <td>0.114242</td>\n",
       "    </tr>\n",
       "  </tbody>\n",
       "</table>\n",
       "</div>"
      ],
      "text/plain": [
       "   child_mort    health    income  inflation  life_expec  total_fer      gdpp\n",
       "0    0.426485  0.358608  0.008047   0.126144    0.475345   0.736593  0.003073\n",
       "1    0.068160  0.294593  0.074933   0.080399    0.871795   0.078864  0.036833\n",
       "2    0.120253  0.146675  0.098809   0.187691    0.875740   0.274448  0.040365\n",
       "3    0.566699  0.064636  0.042535   0.245911    0.552268   0.790221  0.031488\n",
       "4    0.037488  0.262275  0.148652   0.052213    0.881657   0.154574  0.114242"
      ]
     },
     "execution_count": 8,
     "metadata": {},
     "output_type": "execute_result"
    }
   ],
   "source": [
    "data.head()"
   ]
  },
  {
   "cell_type": "code",
   "execution_count": 9,
   "metadata": {},
   "outputs": [
    {
     "name": "stderr",
     "output_type": "stream",
     "text": [
      "  File \"d:\\Python\\Python310\\lib\\site-packages\\joblib\\externals\\loky\\backend\\context.py\", line 199, in _count_physical_cores\n",
      "    cpu_info = subprocess.run(\n",
      "  File \"d:\\Python\\Python310\\lib\\subprocess.py\", line 503, in run\n",
      "    with Popen(*popenargs, **kwargs) as process:\n",
      "  File \"d:\\Python\\Python310\\lib\\subprocess.py\", line 971, in __init__\n",
      "    self._execute_child(args, executable, preexec_fn, close_fds,\n",
      "  File \"d:\\Python\\Python310\\lib\\subprocess.py\", line 1440, in _execute_child\n",
      "    hp, ht, pid, tid = _winapi.CreateProcess(executable, args,\n"
     ]
    }
   ],
   "source": [
    "from sklearn.cluster import KMeans\n",
    "X1 = data.values # dataframe -> array\n",
    "inertia = []\n",
    "for n in range(3 , 15):\n",
    "    algorithm = (KMeans(n_clusters = n ,init='k-means++', n_init = 10 ,max_iter=500, \n",
    "                        tol=0.0001,  random_state= 111  , algorithm='elkan') )\n",
    "    algorithm.fit(X1)\n",
    "    inertia.append(algorithm.inertia_)"
   ]
  },
  {
   "cell_type": "code",
   "execution_count": 10,
   "metadata": {},
   "outputs": [
    {
     "data": {
      "image/png": "[encoded data removed]",
      "text/plain": [
       "<Figure size 1500x600 with 1 Axes>"
      ]
     },
     "metadata": {},
     "output_type": "display_data"
    }
   ],
   "source": [
    "import numpy as np\n",
    "plt.figure(1 , figsize = (15 ,6))\n",
    "plt.plot(np.arange(3 , 15) , inertia , 'o')\n",
    "plt.plot(np.arange(3 , 15) , inertia , '-' , alpha = 0.5)\n",
    "plt.xlabel('Number of Clusters') , plt.ylabel('Inertia')\n",
    "plt.show()"
   ]
  },
  {
   "cell_type": "code",
   "execution_count": 11,
   "metadata": {},
   "outputs": [
    {
     "name": "stdout",
     "output_type": "stream",
     "text": [
      "12\n",
      "7\n"
     ]
    },
    {
     "data": {
      "text/plain": [
       "<matplotlib.collections.LineCollection at 0x24a21be5090>"
      ]
     },
     "execution_count": 11,
     "metadata": {},
     "output_type": "execute_result"
    },
    {
     "data": {
      "image/png": "[encoded data removed]",
      "text/plain": [
       "<Figure size 640x480 with 1 Axes>"
      ]
     },
     "metadata": {},
     "output_type": "display_data"
    }
   ],
   "source": [
    "y = inertia\n",
    "print(len(y))\n",
    "\n",
    "x = range(3, 15)\n",
    "from kneed import KneeLocator\n",
    "kn = KneeLocator(x, y, curve='convex', direction='decreasing')\n",
    "print(kn.knee)\n",
    "\n",
    "\n",
    "import matplotlib.pyplot as plt\n",
    "plt.xlabel('number of clusters k')\n",
    "plt.ylabel('Sum of squared distances')\n",
    "plt.plot(x, y, 'bx-')\n",
    "plt.vlines(kn.knee, plt.ylim()[0], plt.ylim()[1], linestyles='dashed')"
   ]
  },
  {
   "cell_type": "markdown",
   "metadata": {},
   "source": [
    "Nhận xét: Qua biểu đồ trên chỉ ra rằng đối với Kmean thì k =7 là tốt nhất."
   ]
  },
  {
   "cell_type": "code",
   "execution_count": 12,
   "metadata": {},
   "outputs": [
    {
     "name": "stdout",
     "output_type": "stream",
     "text": [
      "Clustering with n = 3 clusters, avg silhoutte score = 0.27105500515496034\n",
      "Clustering with n = 4 clusters, avg silhoutte score = 0.18714012628840246\n",
      "Clustering with n = 5 clusters, avg silhoutte score = 0.21144477459790062\n",
      "Clustering with n = 6 clusters, avg silhoutte score = 0.2036362942597633\n",
      "Clustering with n = 7 clusters, avg silhoutte score = 0.16300883178422065\n",
      "Clustering with n = 8 clusters, avg silhoutte score = 0.22409504292997928\n",
      "Clustering with n = 9 clusters, avg silhoutte score = 0.13363108032146723\n",
      "Clustering with n = 10 clusters, avg silhoutte score = 0.24172955728401652\n",
      "Clustering with n = 11 clusters, avg silhoutte score = 0.19843116174471884\n",
      "Clustering with n = 12 clusters, avg silhoutte score = 0.20874663074754046\n",
      "Clustering with n = 13 clusters, avg silhoutte score = 0.22931358410267758\n",
      "Clustering with n = 14 clusters, avg silhoutte score = 0.23353764082642423\n"
     ]
    }
   ],
   "source": [
    "from sklearn.mixture import GaussianMixture \n",
    "from sklearn.metrics import silhouette_samples, silhouette_score\n",
    "\n",
    "n_clusters=np.arange(3, 15)\n",
    "sils=[]\n",
    "sils_err=[]\n",
    "iterations=20\n",
    "for n in n_clusters:\n",
    "    tmp_sil=[]\n",
    "    gmm=GaussianMixture(n, n_init=2).fit(data) \n",
    "    labels=gmm.predict(data)\n",
    "    silhouette_avg = silhouette_score(data, labels,metric='euclidean')\n",
    "    sils.append(silhouette_avg)\n",
    "    print(\"Clustering with n = {0} clusters, avg silhoutte score = {1}\".format(n,silhouette_avg))"
   ]
  },
  {
   "cell_type": "code",
   "execution_count": 13,
   "metadata": {},
   "outputs": [
    {
     "data": {
      "image/png": "[encoded data removed]",
      "text/plain": [
       "<Figure size 1500x600 with 1 Axes>"
      ]
     },
     "metadata": {},
     "output_type": "display_data"
    }
   ],
   "source": [
    "import numpy as np\n",
    "plt.figure(1 , figsize = (15 ,6))\n",
    "plt.plot(np.arange(3 , 15) , sils , 'o')\n",
    "plt.plot(np.arange(3 , 15) , sils , '-' , alpha = 0.5)\n",
    "plt.xlabel('Number of Clusters') , plt.ylabel('Silhouette score')\n",
    "plt.show()"
   ]
  },
  {
   "cell_type": "markdown",
   "metadata": {},
   "source": [
    "Nhận xét:\n",
    "Qua biểu đồ trên có thể thấy đối với GMM thì n = 3 là cao nhất do đó n = 3 là tốt nhất."
   ]
  },
  {
   "cell_type": "code",
   "execution_count": 14,
   "metadata": {},
   "outputs": [
    {
     "name": "stdout",
     "output_type": "stream",
     "text": [
      "Clustering with n = 3 clusters, avg silhoutte score = 0.38614661025417435\n",
      "Clustering with n = 4 clusters, avg silhoutte score = 0.2670686115317291\n",
      "Clustering with n = 5 clusters, avg silhoutte score = 0.28388831229868633\n",
      "Clustering with n = 6 clusters, avg silhoutte score = 0.2453768686837784\n",
      "Clustering with n = 7 clusters, avg silhoutte score = 0.26303612175828106\n",
      "Clustering with n = 8 clusters, avg silhoutte score = 0.26079634227787113\n",
      "Clustering with n = 9 clusters, avg silhoutte score = 0.2672014279698578\n",
      "Clustering with n = 10 clusters, avg silhoutte score = 0.27193282793718593\n",
      "Clustering with n = 11 clusters, avg silhoutte score = 0.24931169677949885\n",
      "Clustering with n = 12 clusters, avg silhoutte score = 0.2565519924822024\n",
      "Clustering with n = 13 clusters, avg silhoutte score = 0.25706919843685877\n",
      "Clustering with n = 14 clusters, avg silhoutte score = 0.2597990696679359\n"
     ]
    },
    {
     "data": {
      "image/png": "[encoded data removed]",
      "text/plain": [
       "<Figure size 1500x600 with 1 Axes>"
      ]
     },
     "metadata": {},
     "output_type": "display_data"
    }
   ],
   "source": [
    "from sklearn.cluster import AgglomerativeClustering\n",
    "n_clusters=np.arange(3, 15)\n",
    "sils=[]\n",
    "sils_err=[]\n",
    "iterations=20\n",
    "for n in n_clusters:\n",
    "    tmp_sil=[]\n",
    "    agg=AgglomerativeClustering(n).fit(data) \n",
    "    labels=agg.labels_\n",
    "    silhouette_avg = silhouette_score(data, labels,metric='euclidean')\n",
    "    sils.append(silhouette_avg)\n",
    "    print(\"Clustering with n = {0} clusters, avg silhoutte score = {1}\".format(n,silhouette_avg))\n",
    "import numpy as np\n",
    "plt.figure(1 , figsize = (15 ,6))\n",
    "plt.plot(np.arange(3 , 15) , sils , 'o')\n",
    "plt.plot(np.arange(3 , 15) , sils , '-' , alpha = 0.5)\n",
    "plt.xlabel('Number of Clusters') , plt.ylabel('Silhouette score')\n",
    "plt.show()"
   ]
  },
  {
   "cell_type": "markdown",
   "metadata": {},
   "source": [
    "Nhận xét:\n",
    "Qua biểu đồ trên cho thấy với Agglomerative thì n = 3 là cao nhất do đó với Agglomerative thì n = 3 là tốt nhất."
   ]
  },
  {
   "cell_type": "code",
   "execution_count": 15,
   "metadata": {},
   "outputs": [],
   "source": [
    "from sklearn.decomposition import PCA\n",
    "pca = PCA(n_components=2)\n",
    "data_pca = pca.fit_transform(data)"
   ]
  },
  {
   "cell_type": "code",
   "execution_count": 16,
   "metadata": {},
   "outputs": [
    {
     "data": {
      "text/html": [
       "<style>#sk-container-id-1 {color: black;}#sk-container-id-1 pre{padding: 0;}#sk-container-id-1 div.sk-toggleable {background-color: white;}#sk-container-id-1 label.sk-toggleable__label {cursor: pointer;display: block;width: 100%;margin-bottom: 0;padding: 0.3em;box-sizing: border-box;text-align: center;}#sk-container-id-1 label.sk-toggleable__label-arrow:before {content: \"▸\";float: left;margin-right: 0.25em;color: #696969;}#sk-container-id-1 label.sk-toggleable__label-arrow:hover:before {color: black;}#sk-container-id-1 div.sk-estimator:hover label.sk-toggleable__label-arrow:before {color: black;}#sk-container-id-1 div.sk-toggleable__content {max-height: 0;max-width: 0;overflow: hidden;text-align: left;background-color: #f0f8ff;}#sk-container-id-1 div.sk-toggleable__content pre {margin: 0.2em;color: black;border-radius: 0.25em;background-color: #f0f8ff;}#sk-container-id-1 input.sk-toggleable__control:checked~div.sk-toggleable__content {max-height: 200px;max-width: 100%;overflow: auto;}#sk-container-id-1 input.sk-toggleable__control:checked~label.sk-toggleable__label-arrow:before {content: \"▾\";}#sk-container-id-1 div.sk-estimator input.sk-toggleable__control:checked~label.sk-toggleable__label {background-color: #d4ebff;}#sk-container-id-1 div.sk-label input.sk-toggleable__control:checked~label.sk-toggleable__label {background-color: #d4ebff;}#sk-container-id-1 input.sk-hidden--visually {border: 0;clip: rect(1px 1px 1px 1px);clip: rect(1px, 1px, 1px, 1px);height: 1px;margin: -1px;overflow: hidden;padding: 0;position: absolute;width: 1px;}#sk-container-id-1 div.sk-estimator {font-family: monospace;background-color: #f0f8ff;border: 1px dotted black;border-radius: 0.25em;box-sizing: border-box;margin-bottom: 0.5em;}#sk-container-id-1 div.sk-estimator:hover {background-color: #d4ebff;}#sk-container-id-1 div.sk-parallel-item::after {content: \"\";width: 100%;border-bottom: 1px solid gray;flex-grow: 1;}#sk-container-id-1 div.sk-label:hover label.sk-toggleable__label {background-color: #d4ebff;}#sk-container-id-1 div.sk-serial::before {content: \"\";position: absolute;border-left: 1px solid gray;box-sizing: border-box;top: 0;bottom: 0;left: 50%;z-index: 0;}#sk-container-id-1 div.sk-serial {display: flex;flex-direction: column;align-items: center;background-color: white;padding-right: 0.2em;padding-left: 0.2em;position: relative;}#sk-container-id-1 div.sk-item {position: relative;z-index: 1;}#sk-container-id-1 div.sk-parallel {display: flex;align-items: stretch;justify-content: center;background-color: white;position: relative;}#sk-container-id-1 div.sk-item::before, #sk-container-id-1 div.sk-parallel-item::before {content: \"\";position: absolute;border-left: 1px solid gray;box-sizing: border-box;top: 0;bottom: 0;left: 50%;z-index: -1;}#sk-container-id-1 div.sk-parallel-item {display: flex;flex-direction: column;z-index: 1;position: relative;background-color: white;}#sk-container-id-1 div.sk-parallel-item:first-child::after {align-self: flex-end;width: 50%;}#sk-container-id-1 div.sk-parallel-item:last-child::after {align-self: flex-start;width: 50%;}#sk-container-id-1 div.sk-parallel-item:only-child::after {width: 0;}#sk-container-id-1 div.sk-dashed-wrapped {border: 1px dashed gray;margin: 0 0.4em 0.5em 0.4em;box-sizing: border-box;padding-bottom: 0.4em;background-color: white;}#sk-container-id-1 div.sk-label label {font-family: monospace;font-weight: bold;display: inline-block;line-height: 1.2em;}#sk-container-id-1 div.sk-label-container {text-align: center;}#sk-container-id-1 div.sk-container {/* jupyter's `normalize.less` sets `[hidden] { display: none; }` but bootstrap.min.css set `[hidden] { display: none !important; }` so we also need the `!important` here to be able to override the default hidden behavior on the sphinx rendered scikit-learn.org. See: https://github.com/scikit-learn/scikit-learn/issues/21755 */display: inline-block !important;position: relative;}#sk-container-id-1 div.sk-text-repr-fallback {display: none;}</style><div id=\"sk-container-id-1\" class=\"sk-top-container\"><div class=\"sk-text-repr-fallback\"><pre>AgglomerativeClustering(n_clusters=3)</pre><b>In a Jupyter environment, please rerun this cell to show the HTML representation or trust the notebook. <br />On GitHub, the HTML representation is unable to render, please try loading this page with nbviewer.org.</b></div><div class=\"sk-container\" hidden><div class=\"sk-item\"><div class=\"sk-estimator sk-toggleable\"><input class=\"sk-toggleable__control sk-hidden--visually\" id=\"sk-estimator-id-1\" type=\"checkbox\" checked><label for=\"sk-estimator-id-1\" class=\"sk-toggleable__label sk-toggleable__label-arrow\">AgglomerativeClustering</label><div class=\"sk-toggleable__content\"><pre>AgglomerativeClustering(n_clusters=3)</pre></div></div></div></div></div>"
      ],
      "text/plain": [
       "AgglomerativeClustering(n_clusters=3)"
      ]
     },
     "execution_count": 16,
     "metadata": {},
     "output_type": "execute_result"
    }
   ],
   "source": [
    "X1 = data_pca # dataframe -> array\n",
    "inertia = []\n",
    "algorithm = AgglomerativeClustering(n_clusters =3)\n",
    "algorithm.fit(X1)"
   ]
  },
  {
   "cell_type": "code",
   "execution_count": 17,
   "metadata": {},
   "outputs": [
    {
     "data": {
      "application/vnd.plotly.v1+json": {
       "config": {
        "linkText": "Export to plot.ly",
        "plotlyServerURL": "https://plot.ly",
        "showLink": false
       },
       "data": [
        {
         "marker": {
          "color": [
           1,
           0,
           0,
           1,
           0,
           0,
           0,
           2,
           2,
           0,
           0,
           0,
           0,
           0,
           0,
           2,
           0,
           1,
           0,
           0,
           0,
           1,
           0,
           0,
           0,
           1,
           1,
           0,
           1,
           2,
           0,
           1,
           1,
           0,
           0,
           0,
           1,
           1,
           1,
           0,
           1,
           0,
           0,
           0,
           2,
           0,
           0,
           0,
           0,
           1,
           1,
           0,
           0,
           2,
           2,
           1,
           1,
           0,
           2,
           1,
           0,
           0,
           0,
           1,
           1,
           0,
           1,
           0,
           2,
           0,
           0,
           0,
           1,
           2,
           0,
           2,
           0,
           2,
           0,
           0,
           1,
           1,
           0,
           0,
           0,
           0,
           0,
           1,
           1,
           0,
           0,
           2,
           0,
           1,
           1,
           0,
           0,
           1,
           0,
           1,
           0,
           1,
           0,
           0,
           0,
           0,
           1,
           0,
           1,
           0,
           2,
           2,
           1,
           1,
           2,
           0,
           1,
           0,
           0,
           0,
           0,
           0,
           0,
           2,
           0,
           0,
           1,
           0,
           0,
           1,
           0,
           0,
           1,
           2,
           0,
           0,
           1,
           1,
           0,
           2,
           0,
           0,
           1,
           0,
           2,
           2,
           0,
           1,
           0,
           1,
           1,
           0,
           0,
           0,
           0,
           1,
           0,
           0,
           2,
           2,
           0,
           0,
           0,
           0,
           0,
           1,
           1
          ],
          "line": {
           "color": [
            1,
            0,
            0,
            1,
            0,
            0,
            0,
            2,
            2,
            0,
            0,
            0,
            0,
            0,
            0,
            2,
            0,
            1,
            0,
            0,
            0,
            1,
            0,
            0,
            0,
            1,
            1,
            0,
            1,
            2,
            0,
            1,
            1,
            0,
            0,
            0,
            1,
            1,
            1,
            0,
            1,
            0,
            0,
            0,
            2,
            0,
            0,
            0,
            0,
            1,
            1,
            0,
            0,
            2,
            2,
            1,
            1,
            0,
            2,
            1,
            0,
            0,
            0,
            1,
            1,
            0,
            1,
            0,
            2,
            0,
            0,
            0,
            1,
            2,
            0,
            2,
            0,
            2,
            0,
            0,
            1,
            1,
            0,
            0,
            0,
            0,
            0,
            1,
            1,
            0,
            0,
            2,
            0,
            1,
            1,
            0,
            0,
            1,
            0,
            1,
            0,
            1,
            0,
            0,
            0,
            0,
            1,
            0,
            1,
            0,
            2,
            2,
            1,
            1,
            2,
            0,
            1,
            0,
            0,
            0,
            0,
            0,
            0,
            2,
            0,
            0,
            1,
            0,
            0,
            1,
            0,
            0,
            1,
            2,
            0,
            0,
            1,
            1,
            0,
            2,
            0,
            0,
            1,
            0,
            2,
            2,
            0,
            1,
            0,
            1,
            1,
            0,
            0,
            0,
            0,
            1,
            0,
            0,
            2,
            2,
            0,
            0,
            0,
            0,
            0,
            1,
            1
           ],
           "width": 12
          },
          "opacity": 0.8,
          "size": 10
         },
         "mode": "markers",
         "type": "scatter",
         "x": [
          0.5822150917668131,
          -0.17348318364923482,
          -0.013470036589222113,
          0.6813607107622165,
          -0.19515724379515212,
          -0.15003616377079765,
          -0.10811878648734731,
          -0.4784461582749237,
          -0.5206865922082224,
          -0.04080393711955133,
          -0.26480603375298506,
          -0.2567788476015276,
          0.07542356251664048,
          -0.23846966080425794,
          -0.16898617085130535,
          -0.46057788480474987,
          -0.0155938948027697,
          0.5645620463200379,
          0.019360194145389285,
          0.11690942023482269,
          -0.2763531742380768,
          0.16038771303202318,
          -0.18725374306224982,
          -0.4086793678771066,
          -0.20191992923881108,
          0.639298282026404,
          0.5875634099483695,
          0.12781839948609192,
          0.5604812773011238,
          -0.5034523678032716,
          0.007408959640847716,
          0.7677318840734084,
          0.815208510958921,
          -0.2555745552737913,
          -0.15200705977546963,
          -0.15565703374151518,
          0.4192746582427938,
          0.7081245228838001,
          0.4431845227211862,
          -0.2566678223923046,
          0.5923623571269143,
          -0.27826537877225543,
          -0.39826368883342245,
          -0.34056958017137223,
          -0.5126779861343894,
          -0.032979019096249805,
          -0.07528738472403548,
          0.07357613181599872,
          -0.0862981964745722,
          0.44351179862974616,
          0.38755213237533087,
          -0.2561933901174099,
          0.054240678580551906,
          -0.4514789058450682,
          -0.4463316415212827,
          0.2842757244575106,
          0.4820985052390998,
          -0.13601098586449714,
          -0.5041862077760054,
          0.3728201096256181,
          -0.41065435233963243,
          -0.09233485995349404,
          0.08256614218391585,
          0.597218512095634,
          0.5600029878450269,
          0.08499700277937458,
          0.8401098623222367,
          -0.28840408186031,
          -0.42251700777176693,
          0.1482707904504757,
          0.047761048982618425,
          -0.15007251547227762,
          0.20484004256918434,
          -0.46312078803367773,
          -0.26437601246860315,
          -0.46394992729363965,
          -0.08577743824867284,
          -0.5102896179203318,
          0.018691273180116045,
          -0.015961695764433886,
          0.3421119035368502,
          0.25357788242823387,
          -0.38302283857682506,
          0.09274625987361364,
          0.26510549946255946,
          -0.24323964448629634,
          -0.26070394888268683,
          0.415744552470384,
          0.42943414830267473,
          -0.14430442792611448,
          -0.24498667307965308,
          -0.7896829836278686,
          -0.19709830777339096,
          0.3989707638061234,
          0.5751099756861076,
          -0.15481710032426213,
          -0.15230131447806414,
          0.7502791673823147,
          -0.37687310182366734,
          0.4498292858027441,
          -0.18514959278699739,
          0.09240872723991991,
          -0.1687642672331968,
          0.07439090843810536,
          -0.23015462983831206,
          -0.002229167392401648,
          0.6201958847420915,
          0.15883665090027263,
          0.24699007543765003,
          0.10603820761950732,
          -0.5144352276247721,
          -0.3725525518880295,
          0.8101297126067968,
          0.7273505018064056,
          -0.6422500194832738,
          -0.1616546017184924,
          0.36931317280155007,
          -0.13140498715474247,
          -0.021002759289842098,
          -0.08540012868164144,
          0.10674695327769654,
          -0.2878469786005065,
          -0.40217756402046323,
          -0.6325715401692427,
          -0.19385515558155245,
          -0.16881820546245405,
          0.2961685254310662,
          0.13181733969281303,
          -0.15065835766225252,
          0.39859776367941974,
          -0.24855379047852508,
          -0.132652835949251,
          0.65950232225418,
          -0.5774518699280821,
          -0.3109772258783078,
          -0.3784642081675371,
          0.22919791370852785,
          0.15271356048394336,
          -0.3871166803853038,
          -0.44902232500291195,
          -0.06481865382226917,
          -0.07355683349015374,
          0.39015108796012765,
          -0.05068724998695419,
          -0.48637466458882705,
          -0.6521246363739245,
          0.18116554274540778,
          0.48878885464777555,
          -0.17772197658364325,
          0.41758509366266094,
          0.46763303802502315,
          0.1171205221387304,
          -0.1304429251481367,
          -0.17855789418010967,
          0.14737166223410175,
          0.5738555804115848,
          -0.14863337730671702,
          -0.3586697204693847,
          -0.4168949687025216,
          -0.5346196488070656,
          -0.20764315355380858,
          0.03963993852563627,
          0.17042626957312082,
          -0.08727261451802275,
          -0.07680360880982508,
          0.3235218979776302,
          0.5742218349767265
         ],
         "y": [
          0.17581022869912916,
          -0.19627033535006094,
          -0.1774042043759075,
          0.09720171997276439,
          -0.11941798546284538,
          -0.04551659857365364,
          -0.274173648659063,
          0.23189515370752636,
          0.2563462073173112,
          -0.13586803352183208,
          0.0352383892231718,
          -0.04205196053044599,
          -0.24507351532079832,
          -0.06098464495827241,
          -0.21601018610332662,
          0.2527428403502757,
          -0.16940630322976494,
          0.05423204587307522,
          -0.17728383797884786,
          -0.13772866826762614,
          -0.07616872753323217,
          0.03551848795969481,
          -0.04533053051958167,
          0.06555190775462043,
          -0.16216484442178766,
          0.1822911911882729,
          0.333791461526488,
          -0.13785502771926209,
          0.08138901135682616,
          0.27333315135942354,
          -0.2121610932972306,
          0.10761610707311679,
          0.20305228124341101,
          -0.07329464051863194,
          -0.24698862917385006,
          -0.12187188452495097,
          -0.007663468524405465,
          0.25575761288427873,
          -0.06885740499048457,
          -0.01784070878555577,
          0.10104855706307452,
          -0.09267044697280358,
          -0.03045953128697441,
          -0.035377345489510055,
          0.3613340104586651,
          -0.11201007238888507,
          -0.07259844112175004,
          -0.14907709477487152,
          -0.15288342494823057,
          0.23962937475887505,
          -0.11808440483720893,
          -0.1269211317340915,
          -0.1731908590153,
          0.199742698360979,
          0.26701581716988415,
          -0.026739862570748885,
          0.08053054331277229,
          -0.07321033683725799,
          0.2368298603402817,
          -0.020879560828015977,
          0.07993132647744092,
          -0.154688359606879,
          -0.06434929316451313,
          0.07743439265245448,
          0.19193029021939634,
          -0.1481028675076686,
          0.1919783503931122,
          -0.11811458806556635,
          0.20312140162250641,
          -0.18338491243804453,
          -0.2573876847501021,
          -0.18175822929920937,
          0.09281747201008206,
          0.2523100297757365,
          0.10909580672773925,
          0.12353686577403626,
          -0.22155167981657728,
          0.16323018630830777,
          -0.020866616121121968,
          -0.1400457188769332,
          -0.047557185152437134,
          0.14243984588480788,
          0.08324755424636301,
          -0.1310664535779576,
          -0.10812510081793388,
          -0.1497089729700196,
          -0.14951320407064878,
          0.17197205187745288,
          0.25578008097964233,
          -0.13684460650544616,
          -0.12000199934141675,
          0.626797159239565,
          -0.1864446459973666,
          -0.07100911386146301,
          0.11362442504637046,
          -0.18541065683265864,
          -0.15577426856049081,
          0.1932864986008608,
          -0.012890716699981522,
          0.01598163640339454,
          -0.17658866819727131,
          0.19061489040032736,
          -0.0708953325246355,
          -0.1679203150505989,
          -0.08924196118532907,
          -0.17413628658708008,
          0.09525875041233987,
          -0.26150624285970264,
          0.01199212851832282,
          -0.17448061524932867,
          0.33372706166417315,
          0.1660712802817922,
          0.2352757516654535,
          0.1353898249698752,
          0.5196825134280719,
          -0.06312956633883059,
          -0.12567836835556967,
          -0.043998995318519064,
          -0.1523133977796762,
          -0.18297272494237024,
          -0.19378723062088204,
          -0.11079745952098162,
          0.06949473519603185,
          0.37087421932739667,
          -0.1880065521060628,
          -0.17402470719593927,
          0.14572704812940543,
          -0.03926783673203475,
          -0.0022099988961352536,
          0.028767822249995377,
          -0.07755687659182892,
          -0.19644475080941734,
          0.4102777589221596,
          0.08381029259619606,
          -0.029933187763427974,
          0.03715291217564809,
          0.02654871810241343,
          0.0467590579262838,
          -0.06931622219429698,
          0.07819775646613658,
          -0.3025832331857405,
          -0.21512423265346892,
          0.050784674327193496,
          -0.07277457547805871,
          0.26898302356937154,
          0.4675100438215917,
          -0.08782531311044206,
          0.07322340829696047,
          -0.27764683173543975,
          0.2069777556637685,
          0.1164620497878926,
          -0.11306467148215411,
          -0.17540727903822292,
          -0.0983023428858315,
          -0.18368971259991074,
          0.2305323463678021,
          -0.18251570606665538,
          0.023777017545030386,
          0.17627591221392233,
          0.5496527589813619,
          -0.05283223223070553,
          -0.17643996906538448,
          -0.1154460202023212,
          -0.13653228215041222,
          -0.188256220834279,
          -0.027214436053266077,
          0.09973307857360568
         ]
        }
       ],
       "layout": {
        "template": {
         "data": {
          "bar": [
           {
            "error_x": {
             "color": "#2a3f5f"
            },
            "error_y": {
             "color": "#2a3f5f"
            },
            "marker": {
             "line": {
              "color": "#E5ECF6",
              "width": 0.5
             },
             "pattern": {
              "fillmode": "overlay",
              "size": 10,
              "solidity": 0.2
             }
            },
            "type": "bar"
           }
          ],
          "barpolar": [
           {
            "marker": {
             "line": {
              "color": "#E5ECF6",
              "width": 0.5
             },
             "pattern": {
              "fillmode": "overlay",
              "size": 10,
              "solidity": 0.2
             }
            },
            "type": "barpolar"
           }
          ],
          "carpet": [
           {
            "aaxis": {
             "endlinecolor": "#2a3f5f",
             "gridcolor": "white",
             "linecolor": "white",
             "minorgridcolor": "white",
             "startlinecolor": "#2a3f5f"
            },
            "baxis": {
             "endlinecolor": "#2a3f5f",
             "gridcolor": "white",
             "linecolor": "white",
             "minorgridcolor": "white",
             "startlinecolor": "#2a3f5f"
            },
            "type": "carpet"
           }
          ],
          "choropleth": [
           {
            "colorbar": {
             "outlinewidth": 0,
             "ticks": ""
            },
            "type": "choropleth"
           }
          ],
          "contour": [
           {
            "colorbar": {
             "outlinewidth": 0,
             "ticks": ""
            },
            "colorscale": [
             [
              0,
              "#0d0887"
             ],
             [
              0.1111111111111111,
              "#46039f"
             ],
             [
              0.2222222222222222,
              "#7201a8"
             ],
             [
              0.3333333333333333,
              "#9c179e"
             ],
             [
              0.4444444444444444,
              "#bd3786"
             ],
             [
              0.5555555555555556,
              "#d8576b"
             ],
             [
              0.6666666666666666,
              "#ed7953"
             ],
             [
              0.7777777777777778,
              "#fb9f3a"
             ],
             [
              0.8888888888888888,
              "#fdca26"
             ],
             [
              1,
              "#f0f921"
             ]
            ],
            "type": "contour"
           }
          ],
          "contourcarpet": [
           {
            "colorbar": {
             "outlinewidth": 0,
             "ticks": ""
            },
            "type": "contourcarpet"
           }
          ],
          "heatmap": [
           {
            "colorbar": {
             "outlinewidth": 0,
             "ticks": ""
            },
            "colorscale": [
             [
              0,
              "#0d0887"
             ],
             [
              0.1111111111111111,
              "#46039f"
             ],
             [
              0.2222222222222222,
              "#7201a8"
             ],
             [
              0.3333333333333333,
              "#9c179e"
             ],
             [
              0.4444444444444444,
              "#bd3786"
             ],
             [
              0.5555555555555556,
              "#d8576b"
             ],
             [
              0.6666666666666666,
              "#ed7953"
             ],
             [
              0.7777777777777778,
              "#fb9f3a"
             ],
             [
              0.8888888888888888,
              "#fdca26"
             ],
             [
              1,
              "#f0f921"
             ]
            ],
            "type": "heatmap"
           }
          ],
          "heatmapgl": [
           {
            "colorbar": {
             "outlinewidth": 0,
             "ticks": ""
            },
            "colorscale": [
             [
              0,
              "#0d0887"
             ],
             [
              0.1111111111111111,
              "#46039f"
             ],
             [
              0.2222222222222222,
              "#7201a8"
             ],
             [
              0.3333333333333333,
              "#9c179e"
             ],
             [
              0.4444444444444444,
              "#bd3786"
             ],
             [
              0.5555555555555556,
              "#d8576b"
             ],
             [
              0.6666666666666666,
              "#ed7953"
             ],
             [
              0.7777777777777778,
              "#fb9f3a"
             ],
             [
              0.8888888888888888,
              "#fdca26"
             ],
             [
              1,
              "#f0f921"
             ]
            ],
            "type": "heatmapgl"
           }
          ],
          "histogram": [
           {
            "marker": {
             "pattern": {
              "fillmode": "overlay",
              "size": 10,
              "solidity": 0.2
             }
            },
            "type": "histogram"
           }
          ],
          "histogram2d": [
           {
            "colorbar": {
             "outlinewidth": 0,
             "ticks": ""
            },
            "colorscale": [
             [
              0,
              "#0d0887"
             ],
             [
              0.1111111111111111,
              "#46039f"
             ],
             [
              0.2222222222222222,
              "#7201a8"
             ],
             [
              0.3333333333333333,
              "#9c179e"
             ],
             [
              0.4444444444444444,
              "#bd3786"
             ],
             [
              0.5555555555555556,
              "#d8576b"
             ],
             [
              0.6666666666666666,
              "#ed7953"
             ],
             [
              0.7777777777777778,
              "#fb9f3a"
             ],
             [
              0.8888888888888888,
              "#fdca26"
             ],
             [
              1,
              "#f0f921"
             ]
            ],
            "type": "histogram2d"
           }
          ],
          "histogram2dcontour": [
           {
            "colorbar": {
             "outlinewidth": 0,
             "ticks": ""
            },
            "colorscale": [
             [
              0,
              "#0d0887"
             ],
             [
              0.1111111111111111,
              "#46039f"
             ],
             [
              0.2222222222222222,
              "#7201a8"
             ],
             [
              0.3333333333333333,
              "#9c179e"
             ],
             [
              0.4444444444444444,
              "#bd3786"
             ],
             [
              0.5555555555555556,
              "#d8576b"
             ],
             [
              0.6666666666666666,
              "#ed7953"
             ],
             [
              0.7777777777777778,
              "#fb9f3a"
             ],
             [
              0.8888888888888888,
              "#fdca26"
             ],
             [
              1,
              "#f0f921"
             ]
            ],
            "type": "histogram2dcontour"
           }
          ],
          "mesh3d": [
           {
            "colorbar": {
             "outlinewidth": 0,
             "ticks": ""
            },
            "type": "mesh3d"
           }
          ],
          "parcoords": [
           {
            "line": {
             "colorbar": {
              "outlinewidth": 0,
              "ticks": ""
             }
            },
            "type": "parcoords"
           }
          ],
          "pie": [
           {
            "automargin": true,
            "type": "pie"
           }
          ],
          "scatter": [
           {
            "fillpattern": {
             "fillmode": "overlay",
             "size": 10,
             "solidity": 0.2
            },
            "type": "scatter"
           }
          ],
          "scatter3d": [
           {
            "line": {
             "colorbar": {
              "outlinewidth": 0,
              "ticks": ""
             }
            },
            "marker": {
             "colorbar": {
              "outlinewidth": 0,
              "ticks": ""
             }
            },
            "type": "scatter3d"
           }
          ],
          "scattercarpet": [
           {
            "marker": {
             "colorbar": {
              "outlinewidth": 0,
              "ticks": ""
             }
            },
            "type": "scattercarpet"
           }
          ],
          "scattergeo": [
           {
            "marker": {
             "colorbar": {
              "outlinewidth": 0,
              "ticks": ""
             }
            },
            "type": "scattergeo"
           }
          ],
          "scattergl": [
           {
            "marker": {
             "colorbar": {
              "outlinewidth": 0,
              "ticks": ""
             }
            },
            "type": "scattergl"
           }
          ],
          "scattermapbox": [
           {
            "marker": {
             "colorbar": {
              "outlinewidth": 0,
              "ticks": ""
             }
            },
            "type": "scattermapbox"
           }
          ],
          "scatterpolar": [
           {
            "marker": {
             "colorbar": {
              "outlinewidth": 0,
              "ticks": ""
             }
            },
            "type": "scatterpolar"
           }
          ],
          "scatterpolargl": [
           {
            "marker": {
             "colorbar": {
              "outlinewidth": 0,
              "ticks": ""
             }
            },
            "type": "scatterpolargl"
           }
          ],
          "scatterternary": [
           {
            "marker": {
             "colorbar": {
              "outlinewidth": 0,
              "ticks": ""
             }
            },
            "type": "scatterternary"
           }
          ],
          "surface": [
           {
            "colorbar": {
             "outlinewidth": 0,
             "ticks": ""
            },
            "colorscale": [
             [
              0,
              "#0d0887"
             ],
             [
              0.1111111111111111,
              "#46039f"
             ],
             [
              0.2222222222222222,
              "#7201a8"
             ],
             [
              0.3333333333333333,
              "#9c179e"
             ],
             [
              0.4444444444444444,
              "#bd3786"
             ],
             [
              0.5555555555555556,
              "#d8576b"
             ],
             [
              0.6666666666666666,
              "#ed7953"
             ],
             [
              0.7777777777777778,
              "#fb9f3a"
             ],
             [
              0.8888888888888888,
              "#fdca26"
             ],
             [
              1,
              "#f0f921"
             ]
            ],
            "type": "surface"
           }
          ],
          "table": [
           {
            "cells": {
             "fill": {
              "color": "#EBF0F8"
             },
             "line": {
              "color": "white"
             }
            },
            "header": {
             "fill": {
              "color": "#C8D4E3"
             },
             "line": {
              "color": "white"
             }
            },
            "type": "table"
           }
          ]
         },
         "layout": {
          "annotationdefaults": {
           "arrowcolor": "#2a3f5f",
           "arrowhead": 0,
           "arrowwidth": 1
          },
          "autotypenumbers": "strict",
          "coloraxis": {
           "colorbar": {
            "outlinewidth": 0,
            "ticks": ""
           }
          },
          "colorscale": {
           "diverging": [
            [
             0,
             "#8e0152"
            ],
            [
             0.1,
             "#c51b7d"
            ],
            [
             0.2,
             "#de77ae"
            ],
            [
             0.3,
             "#f1b6da"
            ],
            [
             0.4,
             "#fde0ef"
            ],
            [
             0.5,
             "#f7f7f7"
            ],
            [
             0.6,
             "#e6f5d0"
            ],
            [
             0.7,
             "#b8e186"
            ],
            [
             0.8,
             "#7fbc41"
            ],
            [
             0.9,
             "#4d9221"
            ],
            [
             1,
             "#276419"
            ]
           ],
           "sequential": [
            [
             0,
             "#0d0887"
            ],
            [
             0.1111111111111111,
             "#46039f"
            ],
            [
             0.2222222222222222,
             "#7201a8"
            ],
            [
             0.3333333333333333,
             "#9c179e"
            ],
            [
             0.4444444444444444,
             "#bd3786"
            ],
            [
             0.5555555555555556,
             "#d8576b"
            ],
            [
             0.6666666666666666,
             "#ed7953"
            ],
            [
             0.7777777777777778,
             "#fb9f3a"
            ],
            [
             0.8888888888888888,
             "#fdca26"
            ],
            [
             1,
             "#f0f921"
            ]
           ],
           "sequentialminus": [
            [
             0,
             "#0d0887"
            ],
            [
             0.1111111111111111,
             "#46039f"
            ],
            [
             0.2222222222222222,
             "#7201a8"
            ],
            [
             0.3333333333333333,
             "#9c179e"
            ],
            [
             0.4444444444444444,
             "#bd3786"
            ],
            [
             0.5555555555555556,
             "#d8576b"
            ],
            [
             0.6666666666666666,
             "#ed7953"
            ],
            [
             0.7777777777777778,
             "#fb9f3a"
            ],
            [
             0.8888888888888888,
             "#fdca26"
            ],
            [
             1,
             "#f0f921"
            ]
           ]
          },
          "colorway": [
           "#636efa",
           "#EF553B",
           "#00cc96",
           "#ab63fa",
           "#FFA15A",
           "#19d3f3",
           "#FF6692",
           "#B6E880",
           "#FF97FF",
           "#FECB52"
          ],
          "font": {
           "color": "#2a3f5f"
          },
          "geo": {
           "bgcolor": "white",
           "lakecolor": "white",
           "landcolor": "#E5ECF6",
           "showlakes": true,
           "showland": true,
           "subunitcolor": "white"
          },
          "hoverlabel": {
           "align": "left"
          },
          "hovermode": "closest",
          "mapbox": {
           "style": "light"
          },
          "paper_bgcolor": "white",
          "plot_bgcolor": "#E5ECF6",
          "polar": {
           "angularaxis": {
            "gridcolor": "white",
            "linecolor": "white",
            "ticks": ""
           },
           "bgcolor": "#E5ECF6",
           "radialaxis": {
            "gridcolor": "white",
            "linecolor": "white",
            "ticks": ""
           }
          },
          "scene": {
           "xaxis": {
            "backgroundcolor": "#E5ECF6",
            "gridcolor": "white",
            "gridwidth": 2,
            "linecolor": "white",
            "showbackground": true,
            "ticks": "",
            "zerolinecolor": "white"
           },
           "yaxis": {
            "backgroundcolor": "#E5ECF6",
            "gridcolor": "white",
            "gridwidth": 2,
            "linecolor": "white",
            "showbackground": true,
            "ticks": "",
            "zerolinecolor": "white"
           },
           "zaxis": {
            "backgroundcolor": "#E5ECF6",
            "gridcolor": "white",
            "gridwidth": 2,
            "linecolor": "white",
            "showbackground": true,
            "ticks": "",
            "zerolinecolor": "white"
           }
          },
          "shapedefaults": {
           "line": {
            "color": "#2a3f5f"
           }
          },
          "ternary": {
           "aaxis": {
            "gridcolor": "white",
            "linecolor": "white",
            "ticks": ""
           },
           "baxis": {
            "gridcolor": "white",
            "linecolor": "white",
            "ticks": ""
           },
           "bgcolor": "#E5ECF6",
           "caxis": {
            "gridcolor": "white",
            "linecolor": "white",
            "ticks": ""
           }
          },
          "title": {
           "x": 0.05
          },
          "xaxis": {
           "automargin": true,
           "gridcolor": "white",
           "linecolor": "white",
           "ticks": "",
           "title": {
            "standoff": 15
           },
           "zerolinecolor": "white",
           "zerolinewidth": 2
          },
          "yaxis": {
           "automargin": true,
           "gridcolor": "white",
           "linecolor": "white",
           "ticks": "",
           "title": {
            "standoff": 15
           },
           "zerolinecolor": "white",
           "zerolinewidth": 2
          }
         }
        },
        "title": {
         "text": "Clusters wrt AgglomerativeClustering and PCA"
        }
       }
      }
     },
     "metadata": {},
     "output_type": "display_data"
    }
   ],
   "source": [
    "import plotly as py\n",
    "import plotly.graph_objs as go\n",
    "\n",
    "trace1 = go.Scatter(\n",
    "    x= data_pca[:,0],\n",
    "    y= data_pca[:,1],\n",
    "    mode='markers',\n",
    "     marker=dict(\n",
    "        color = algorithm.labels_, \n",
    "        size= 10,\n",
    "        line=dict(\n",
    "            color= algorithm.labels_,\n",
    "            width= 12\n",
    "        ),\n",
    "        opacity=0.8\n",
    "     )\n",
    ")\n",
    "datab = [trace1]\n",
    "layout = go.Layout(\n",
    "    title= 'Clusters wrt AgglomerativeClustering and PCA',\n",
    "\n",
    ")\n",
    "fig = go.Figure(data=datab, layout=layout)\n",
    "py.offline.iplot(fig)"
   ]
  },
  {
   "cell_type": "code",
   "execution_count": 20,
   "metadata": {},
   "outputs": [
    {
     "data": {
      "text/plain": [
       "array([[ 0.48732146, -0.14370017, -0.30530272,  0.08861405, -0.43083831,\n",
       "         0.58313142, -0.33932573],\n",
       "       [ 0.26822925,  0.53543497,  0.37173972, -0.0275395 , -0.07734107,\n",
       "         0.39066099,  0.58635823]])"
      ]
     },
     "execution_count": 20,
     "metadata": {},
     "output_type": "execute_result"
    }
   ],
   "source": [
    "principal_components = pca.components_\n",
    "principal_components"
   ]
  },
  {
   "cell_type": "code",
   "execution_count": null,
   "metadata": {},
   "outputs": [
    {
     "data": {
      "image/png": "[encoded data removed]",
      "text/plain": [
       "<Figure size 800x600 with 1 Axes>"
      ]
     },
     "metadata": {},
     "output_type": "display_data"
    }
   ],
   "source": [
    "plt.figure(figsize=(8, 6))\n",
    "for i, (pc, var_ratio) in enumerate(zip(principal_components, pca.explained_variance_ratio_)):\n",
    "    plt.arrow(0, 0, pc[0], pc[1], head_width=0.1, head_length=0.1, fc='blue', ec='blue')\n",
    "    plt.text(pc[0] + 0.05, pc[1] + 0.05, f'PC{i+1} ({var_ratio:.2f})', fontsize=12)\n",
    "\n",
    "plt.xlim(-1, 1)\n",
    "plt.ylim(-1, 1)\n",
    "plt.xlabel('PC1')\n",
    "plt.ylabel('PC2')\n",
    "plt.title('Principal Components')\n",
    "plt.axhline(0, color='black', linewidth=0.5)\n",
    "plt.axvline(0, color='black', linewidth=0.5)\n",
    "plt.grid(True, linestyle='--', alpha=0.7)\n",
    "plt.show()"
   ]
  },
  {
   "cell_type": "code",
   "execution_count": 23,
   "metadata": {},
   "outputs": [
    {
     "data": {
      "text/html": [
       "<div>\n",
       "<style scoped>\n",
       "    .dataframe tbody tr th:only-of-type {\n",
       "        vertical-align: middle;\n",
       "    }\n",
       "\n",
       "    .dataframe tbody tr th {\n",
       "        vertical-align: top;\n",
       "    }\n",
       "\n",
       "    .dataframe thead th {\n",
       "        text-align: right;\n",
       "    }\n",
       "</style>\n",
       "<table border=\"1\" class=\"dataframe\">\n",
       "  <thead>\n",
       "    <tr style=\"text-align: right;\">\n",
       "      <th></th>\n",
       "      <th>0</th>\n",
       "    </tr>\n",
       "  </thead>\n",
       "  <tbody>\n",
       "    <tr>\n",
       "      <th>total_fer</th>\n",
       "      <td>0.583131</td>\n",
       "    </tr>\n",
       "    <tr>\n",
       "      <th>child_mort</th>\n",
       "      <td>0.487321</td>\n",
       "    </tr>\n",
       "    <tr>\n",
       "      <th>inflation</th>\n",
       "      <td>0.088614</td>\n",
       "    </tr>\n",
       "    <tr>\n",
       "      <th>health</th>\n",
       "      <td>-0.143700</td>\n",
       "    </tr>\n",
       "    <tr>\n",
       "      <th>income</th>\n",
       "      <td>-0.305303</td>\n",
       "    </tr>\n",
       "    <tr>\n",
       "      <th>gdpp</th>\n",
       "      <td>-0.339326</td>\n",
       "    </tr>\n",
       "    <tr>\n",
       "      <th>life_expec</th>\n",
       "      <td>-0.430838</td>\n",
       "    </tr>\n",
       "  </tbody>\n",
       "</table>\n",
       "</div>"
      ],
      "text/plain": [
       "                   0\n",
       "total_fer   0.583131\n",
       "child_mort  0.487321\n",
       "inflation   0.088614\n",
       "health     -0.143700\n",
       "income     -0.305303\n",
       "gdpp       -0.339326\n",
       "life_expec -0.430838"
      ]
     },
     "execution_count": 23,
     "metadata": {},
     "output_type": "execute_result"
    }
   ],
   "source": [
    "components_1 = pd.DataFrame(pca.components_[0],index=data.columns)\n",
    "components_1.sort_values(by = 0,ascending=False)"
   ]
  },
  {
   "cell_type": "code",
   "execution_count": 25,
   "metadata": {},
   "outputs": [
    {
     "data": {
      "text/html": [
       "<div>\n",
       "<style scoped>\n",
       "    .dataframe tbody tr th:only-of-type {\n",
       "        vertical-align: middle;\n",
       "    }\n",
       "\n",
       "    .dataframe tbody tr th {\n",
       "        vertical-align: top;\n",
       "    }\n",
       "\n",
       "    .dataframe thead th {\n",
       "        text-align: right;\n",
       "    }\n",
       "</style>\n",
       "<table border=\"1\" class=\"dataframe\">\n",
       "  <thead>\n",
       "    <tr style=\"text-align: right;\">\n",
       "      <th></th>\n",
       "      <th>0</th>\n",
       "    </tr>\n",
       "  </thead>\n",
       "  <tbody>\n",
       "    <tr>\n",
       "      <th>gdpp</th>\n",
       "      <td>0.586358</td>\n",
       "    </tr>\n",
       "    <tr>\n",
       "      <th>health</th>\n",
       "      <td>0.535435</td>\n",
       "    </tr>\n",
       "    <tr>\n",
       "      <th>total_fer</th>\n",
       "      <td>0.390661</td>\n",
       "    </tr>\n",
       "    <tr>\n",
       "      <th>income</th>\n",
       "      <td>0.371740</td>\n",
       "    </tr>\n",
       "    <tr>\n",
       "      <th>child_mort</th>\n",
       "      <td>0.268229</td>\n",
       "    </tr>\n",
       "    <tr>\n",
       "      <th>inflation</th>\n",
       "      <td>-0.027540</td>\n",
       "    </tr>\n",
       "    <tr>\n",
       "      <th>life_expec</th>\n",
       "      <td>-0.077341</td>\n",
       "    </tr>\n",
       "  </tbody>\n",
       "</table>\n",
       "</div>"
      ],
      "text/plain": [
       "                   0\n",
       "gdpp        0.586358\n",
       "health      0.535435\n",
       "total_fer   0.390661\n",
       "income      0.371740\n",
       "child_mort  0.268229\n",
       "inflation  -0.027540\n",
       "life_expec -0.077341"
      ]
     },
     "execution_count": 25,
     "metadata": {},
     "output_type": "execute_result"
    }
   ],
   "source": [
    "components_2 = pd.DataFrame(pca.components_[1],index=data.columns)\n",
    "components_2.sort_values(by = 0,ascending=False)"
   ]
  },
  {
   "cell_type": "markdown",
   "metadata": {},
   "source": [
    "Giải thích:\n",
    "\n",
    "components_1 chủ yếu được đóng góp bởi các feature là total_fer và child_mort, hai yếu tố này nói lên sự tăng dân số hay tỷ lệ sinh.\n",
    "components_2 chủ yếu được đóng góp bởi các feature là gdpp, health, total_fer, income và child_mort, các yếu tố này nói lên mức sống.\n",
    "\n",
    "Từ kết quả clustering của hình Clusters wrt AgglomerativeClustering and PCA, với PC1 là trục x và PC2 là trục y ta có thể chia thành 3 nhóm người dùng:\n",
    "\n",
    "+ Nhóm 1 (vàng): Là nhóm có tỷ lệ sinh thấp nhất nhưng mức sống cao nhất, hay nói cách khác là nhóm giàu nhưng không muốn sinh nhiều con.\n",
    "+ Nhóm 2 (xanh): Là nhóm có tỷ lệ sinh trung bình, khá trải dài mức sinh và mức sống thấp nhất. Đây là nhóm thu nhập thấp và mức sinh vừa.\n",
    "+ Nhóm 3 (hồng): Là nhóm có tỷ lệ sinh cao nhất và mức sống trung bình, nhóm này là nhóm trung lưu và sinh nhiều con."
   ]
  }
 ],
 "metadata": {
  "kernelspec": {
   "display_name": "Python 3",
   "language": "python",
   "name": "python3"
  },
  "language_info": {
   "codemirror_mode": {
    "name": "ipython",
    "version": 3
   },
   "file_extension": ".py",
   "mimetype": "text/x-python",
   "name": "python",
   "nbconvert_exporter": "python",
   "pygments_lexer": "ipython3",
   "version": "3.10.10"
  },
  "orig_nbformat": 4
 },
 "nbformat": 4,
 "nbformat_minor": 2
}
